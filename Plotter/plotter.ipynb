{
 "cells": [
  {
   "cell_type": "code",
   "execution_count": 1,
   "metadata": {},
   "outputs": [
    {
     "data": {
      "text/html": [
       "        <script type=\"text/javascript\">\n",
       "        window.PlotlyConfig = {MathJaxConfig: 'local'};\n",
       "        if (window.MathJax) {MathJax.Hub.Config({SVG: {font: \"STIX-Web\"}});}\n",
       "        if (typeof require !== 'undefined') {\n",
       "        require.undef(\"plotly\");\n",
       "        requirejs.config({\n",
       "            paths: {\n",
       "                'plotly': ['https://cdn.plot.ly/plotly-latest.min']\n",
       "            }\n",
       "        });\n",
       "        require(['plotly'], function(Plotly) {\n",
       "            window._Plotly = Plotly;\n",
       "        });\n",
       "        }\n",
       "        </script>\n",
       "        "
      ]
     },
     "metadata": {},
     "output_type": "display_data"
    },
    {
     "data": {
      "text/html": [
       "        <script type=\"text/javascript\">\n",
       "        window.PlotlyConfig = {MathJaxConfig: 'local'};\n",
       "        if (window.MathJax) {MathJax.Hub.Config({SVG: {font: \"STIX-Web\"}});}\n",
       "        if (typeof require !== 'undefined') {\n",
       "        require.undef(\"plotly\");\n",
       "        requirejs.config({\n",
       "            paths: {\n",
       "                'plotly': ['https://cdn.plot.ly/plotly-latest.min']\n",
       "            }\n",
       "        });\n",
       "        require(['plotly'], function(Plotly) {\n",
       "            window._Plotly = Plotly;\n",
       "        });\n",
       "        }\n",
       "        </script>\n",
       "        "
      ]
     },
     "metadata": {},
     "output_type": "display_data"
    }
   ],
   "source": [
    "#Importing required librabery \n",
    "import numpy as np\n",
    "import pandas as pd\n",
    "import chart_studio.plotly as pl\n",
    "import plotly.offline as po\n",
    "import cufflinks as cf\n",
    "%matplotlib inline\n",
    "po.init_notebook_mode(connected = True)\n",
    "cf.go_offline()"
   ]
  },
  {
   "cell_type": "code",
   "execution_count": 2,
   "metadata": {},
   "outputs": [],
   "source": [
    "#data frame creation based on user input\n",
    "def createdata(data):\n",
    "    if data == 1:\n",
    "        x = np.random.rand(100,5)\n",
    "        df1 = pd.DataFrame(x,columns= ['A','B','C','D','E'])\n",
    "        \n",
    "    elif data == 2:\n",
    "        x = [0,0,0,0,0]\n",
    "        r1= [0,0,0,0,0]\n",
    "        r2= [0,0,0,0,0]\n",
    "        r3= [0,0,0,0,0]\n",
    "        r4= [0,0,0,0,0]\n",
    "        print(\"Enter values for columns\")\n",
    "        i=0\n",
    "        for i in [0,1,2,3,4]:\n",
    "            x[i] = input()\n",
    "            i += 1\n",
    "        print(\"Enter values for first row\")\n",
    "        i=0\n",
    "        for i in [0,1,2,3,4]:\n",
    "            r1[i] = int(input())\n",
    "            i += 1\n",
    "        print(\"Enter values for sceond row\")\n",
    "        i=0\n",
    "        for i in [0,1,2,3,4]:\n",
    "            r2[i] = int(input())\n",
    "            i += 1\n",
    "        print(\"Enter values for third row\")\n",
    "        i=0\n",
    "        for i in [0,1,2,3,4]:\n",
    "            r3[i] = int(input())\n",
    "            i += 1\n",
    "        print(\"Enter values for fourth row\")\n",
    "        i=0\n",
    "        for i in [0,1,2,3,4]:\n",
    "            r4[i] = int(input())\n",
    "            i += 1\n",
    "        df1 = pd.DataFrame([r1,r2,r3,r4], columns = x)  \n",
    "        \n",
    "    elif data == 3:\n",
    "        file = input(\"Enter the file name: \")\n",
    "        x = pd.read_csv(file)\n",
    "        df1 = pd.DataFrame(x)\n",
    "    else:\n",
    "        print(\"Dataframe creation failed, please enter a number between 1 to 3 and try again\")\n",
    "    return df1"
   ]
  },
  {
   "cell_type": "code",
   "execution_count": 3,
   "metadata": {},
   "outputs": [],
   "source": [
    "#plot based on full dataframe\n",
    "def plotter(plot):\n",
    "    if plot == 1:\n",
    "        finalplot = df1.iplot(kind='scatter')\n",
    "    elif plot == 2:\n",
    "        finalplot = df1.iplot(kind='scatter',mode='markers',symbol='x', colorscale='paired')\n",
    "    elif plot == 3:\n",
    "        finalplot = df1.iplot(kind='bar')        \n",
    "    elif plot == 4:\n",
    "        finalplot = df1.iplot(kind='hist')\n",
    "    elif plot == 5:\n",
    "        finalplot = df1.iplot(kind='box')\n",
    "    elif plot == 6:\n",
    "        finalplot = df1.iplot(kind='surface')\n",
    "    else:\n",
    "        finalplot = print(\"select only between 1 to 6\")\n",
    "    return finalplot"
   ]
  },
  {
   "cell_type": "code",
   "execution_count": 4,
   "metadata": {},
   "outputs": [],
   "source": [
    "#plot based on specific columns\n",
    "def plotter2(plot):\n",
    "    \n",
    "    col = int(input('Enter the number of columns you want to plot by selecting 1 2 or 3 : '))\n",
    "    \n",
    "    if col == 1:\n",
    "        colm = input('Enter the column you want to plot by selecting any column from dataframe head : ')\n",
    "        if plot == 1:\n",
    "            finalplot = df1[colm].iplot(kind='scatter')\n",
    "        elif plot == 2:\n",
    "            finalplot = df1[colm].iplot(kind='scatter',mode='markers',symbol='x', colorscale='paired')\n",
    "        elif plot == 3:\n",
    "            finalplot = df1[colm].iplot(kind='bar')        \n",
    "        elif plot == 4:\n",
    "            finalplot = df1[colm].iplot(kind='hist')\n",
    "        elif plot == 5:\n",
    "            finalplot = df1[colm].iplot(kind='box')\n",
    "        elif plot == 6 or plot == 7:\n",
    "            finalplot = print(\"Surface plot and buble plot require more than one column arguments\")\n",
    "        else:\n",
    "            finalplot = print(\"select only between 1 to 7\")\n",
    "        \n",
    "    elif col == 2:\n",
    "        print(\"Enter the columns you want to plot by selecting from dataframe head\")\n",
    "        x = input('First column: ')\n",
    "        y = input('Second column: ')\n",
    "        \n",
    "        if plot == 1:\n",
    "            finalplot = df1[[x,y]].iplot(kind='scatter')\n",
    "        elif plot == 2:\n",
    "            finalplot = df1[[x,y]].iplot(kind='scatter',mode='markers',symbol='x', colorscale='paired')\n",
    "        elif plot == 3:\n",
    "            finalplot = df1[[x,y]].iplot(kind='bar')        \n",
    "        elif plot == 4:\n",
    "            finalplot = df1[[x,y]].iplot(kind='hist')\n",
    "        elif plot == 5:\n",
    "            finalplot = df1[[x,y]].iplot(kind='box')\n",
    "        elif plot == 6:\n",
    "            finalplot = df1[[x,y]].iplot(kind='surface')\n",
    "        elif plot == 7:\n",
    "            size = input('Please enter the size column of bubble plot: ')\n",
    "            finalplot = df1.iplot(kind='bubble', x=x, y=y, size=size)\n",
    "        else:\n",
    "            finalplot = print(\"select only between 1 to 7\")\n",
    "           \n",
    "    elif col == 3:     \n",
    "        print(\"Enter the columns you want to plot by selecting from dataframe head\")\n",
    "        x = input('First column: ')\n",
    "        y = input('Second column: ')\n",
    "        z = input('Third column: ')\n",
    "        \n",
    "        if plot == 1:\n",
    "            finalplot = df1[[x,y,z]].iplot(kind='scatter')\n",
    "        elif plot == 2:\n",
    "            finalplot = df1[[x,y,z]].iplot(kind='scatter',mode='markers',symbol='x', colorscale='paired')\n",
    "        elif plot == 3:\n",
    "            finalplot = df1[[x,y,z]].iplot(kind='bar')        \n",
    "        elif plot == 4:\n",
    "            finalplot = df1[[x,y,z]].iplot(kind='hist')\n",
    "        elif plot == 5:\n",
    "            finalplot = df1[[x,y,z]].iplot(kind='box')\n",
    "        elif plot == 6:\n",
    "            finalplot = df1[[x,y,z]].iplot(kind='surface')\n",
    "        elif plot == 7:\n",
    "            size = input('Please enter the size column of bubble plot: ')\n",
    "            finalplot = df1.iplot(kind='bubble', x=x, y=y, z=z, size=size)\n",
    "        else:\n",
    "            finalplot = print(\"select only between 1 to 7\")\n",
    "        \n",
    "    else:\n",
    "        finalplot = print(\"Please enter 1,2 or 3\")     \n",
    "    return finalplot\n",
    "        "
   ]
  },
  {
   "cell_type": "code",
   "execution_count": 5,
   "metadata": {},
   "outputs": [],
   "source": [
    "def main(cat):\n",
    "    if cat == 1:\n",
    "        print(\"Select the type of plot you need to plot by writing 1 to 6\")\n",
    "        print(\"1.Line plot\")\n",
    "        print(\"2.Scatter plot\")\n",
    "        print(\"3.Bar plot\")\n",
    "        print(\"4.Histogram\")\n",
    "        print(\"5.Box plot\")\n",
    "        print(\"6.Surface plot\")\n",
    "        plot = int(input())\n",
    "        output = plotter(plot)\n",
    "    elif cat == 2:\n",
    "        print(\"Select the type of plot you need to plot by writing 1 to 7\")\n",
    "        print(\"1.Line plot\")\n",
    "        print(\"2.Scatter plot\")\n",
    "        print(\"3.Bar plot\")\n",
    "        print(\"4.Histogram\")\n",
    "        print(\"5.Box plot\")\n",
    "        print(\"6.Surface plot\")\n",
    "        print(\"7.Bubble plot\")\n",
    "        plot = int(input())\n",
    "        output = plotter2(plot)\n",
    "    \n",
    "    else:\n",
    "        print(\"Enter 1 or 2 and try again\")\n",
    "    "
   ]
  },
  {
   "cell_type": "code",
   "execution_count": 6,
   "metadata": {},
   "outputs": [
    {
     "name": "stdout",
     "output_type": "stream",
     "text": [
      "Select the type of data you want to plot(by writing 1,2 and 3)\n",
      "1. Random data with 100 rows and 5 columns\n",
      "2. Custmosize dataframw with 5 columns and 4 rows\n",
      "3. Upload csv/json/txt file\n",
      "Enter your selection: 1\n"
     ]
    }
   ],
   "source": [
    "#Get use input for data creation\n",
    "print(\"Select the type of data you want to plot(by writing 1,2 and 3)\")\n",
    "print(\"1. Random data with 100 rows and 5 columns\")\n",
    "print(\"2. Custmosize dataframw with 5 columns and 4 rows\")\n",
    "print(\"3. Upload csv/json/txt file\")\n",
    "data = int(input(\"Enter your selection: \"))\n",
    "df1 = createdata(data)"
   ]
  },
  {
   "cell_type": "code",
   "execution_count": 7,
   "metadata": {},
   "outputs": [
    {
     "name": "stdout",
     "output_type": "stream",
     "text": [
      "Your DataFrame head is given below, check the columns to plot using the cufflinks\n"
     ]
    },
    {
     "data": {
      "text/html": [
       "<div>\n",
       "<style scoped>\n",
       "    .dataframe tbody tr th:only-of-type {\n",
       "        vertical-align: middle;\n",
       "    }\n",
       "\n",
       "    .dataframe tbody tr th {\n",
       "        vertical-align: top;\n",
       "    }\n",
       "\n",
       "    .dataframe thead th {\n",
       "        text-align: right;\n",
       "    }\n",
       "</style>\n",
       "<table border=\"1\" class=\"dataframe\">\n",
       "  <thead>\n",
       "    <tr style=\"text-align: right;\">\n",
       "      <th></th>\n",
       "      <th>A</th>\n",
       "      <th>B</th>\n",
       "      <th>C</th>\n",
       "      <th>D</th>\n",
       "      <th>E</th>\n",
       "    </tr>\n",
       "  </thead>\n",
       "  <tbody>\n",
       "    <tr>\n",
       "      <th>0</th>\n",
       "      <td>0.935370</td>\n",
       "      <td>0.141373</td>\n",
       "      <td>0.522178</td>\n",
       "      <td>0.039893</td>\n",
       "      <td>0.436421</td>\n",
       "    </tr>\n",
       "    <tr>\n",
       "      <th>1</th>\n",
       "      <td>0.373914</td>\n",
       "      <td>0.999873</td>\n",
       "      <td>0.195934</td>\n",
       "      <td>0.972630</td>\n",
       "      <td>0.903990</td>\n",
       "    </tr>\n",
       "    <tr>\n",
       "      <th>2</th>\n",
       "      <td>0.943191</td>\n",
       "      <td>0.418826</td>\n",
       "      <td>0.662959</td>\n",
       "      <td>0.293575</td>\n",
       "      <td>0.363472</td>\n",
       "    </tr>\n",
       "    <tr>\n",
       "      <th>3</th>\n",
       "      <td>0.167927</td>\n",
       "      <td>0.473661</td>\n",
       "      <td>0.509049</td>\n",
       "      <td>0.639797</td>\n",
       "      <td>0.291680</td>\n",
       "    </tr>\n",
       "    <tr>\n",
       "      <th>4</th>\n",
       "      <td>0.085848</td>\n",
       "      <td>0.020685</td>\n",
       "      <td>0.676271</td>\n",
       "      <td>0.211992</td>\n",
       "      <td>0.992516</td>\n",
       "    </tr>\n",
       "  </tbody>\n",
       "</table>\n",
       "</div>"
      ],
      "text/plain": [
       "          A         B         C         D         E\n",
       "0  0.935370  0.141373  0.522178  0.039893  0.436421\n",
       "1  0.373914  0.999873  0.195934  0.972630  0.903990\n",
       "2  0.943191  0.418826  0.662959  0.293575  0.363472\n",
       "3  0.167927  0.473661  0.509049  0.639797  0.291680\n",
       "4  0.085848  0.020685  0.676271  0.211992  0.992516"
      ]
     },
     "execution_count": 7,
     "metadata": {},
     "output_type": "execute_result"
    }
   ],
   "source": [
    "#printing head of data frame for columns name reference for plotting\n",
    "print(\"Your DataFrame head is given below, check the columns to plot using the cufflinks\")\n",
    "df1.head()"
   ]
  },
  {
   "cell_type": "code",
   "execution_count": 8,
   "metadata": {},
   "outputs": [
    {
     "name": "stdout",
     "output_type": "stream",
     "text": [
      "What kind of plot you need, the complete data plot or specific columns plot\n",
      "Press 1 for complete data plot or 2 for specifying columns to plot: 2\n"
     ]
    }
   ],
   "source": [
    "print(\"What kind of plot you need, the complete data plot or specific columns plot\")\n",
    "cat = int(input('Press 1 for complete data plot or 2 for specifying columns to plot: '))"
   ]
  },
  {
   "cell_type": "code",
   "execution_count": 9,
   "metadata": {},
   "outputs": [
    {
     "name": "stdout",
     "output_type": "stream",
     "text": [
      "Select the type of plot you need to plot by writing 1 to 7\n",
      "1.Line plot\n",
      "2.Scatter plot\n",
      "3.Bar plot\n",
      "4.Histogram\n",
      "5.Box plot\n",
      "6.Surface plot\n",
      "7.Bubble plot\n",
      "5\n",
      "Enter the number of columns you want to plot by selecting 1 2 or 3 : 2\n",
      "Enter the columns you want to plot by selecting from dataframe head\n",
      "First column: A\n",
      "Second column: B\n"
     ]
    },
    {
     "data": {
      "application/vnd.plotly.v1+json": {
       "config": {
        "linkText": "Export to plot.ly",
        "plotlyServerURL": "https://plot.ly",
        "showLink": true
       },
       "data": [
        {
         "boxpoints": false,
         "line": {
          "width": 1.3
         },
         "marker": {
          "color": "rgba(255, 153, 51, 1.0)"
         },
         "name": "A",
         "orientation": "v",
         "type": "box",
         "y": [
          0.935369893963711,
          0.3739143242437204,
          0.943191208619472,
          0.16792729403205864,
          0.08584828117181709,
          0.8111345931666489,
          0.05237621161020345,
          0.5417282333678696,
          0.9278262814177854,
          0.9023983664200995,
          0.19306364544080956,
          0.284122361889092,
          0.600045964396287,
          0.5361897014057176,
          0.9148680630307382,
          0.8480088575986628,
          0.8267150729509655,
          0.7481448049749364,
          0.2348097530813349,
          0.7875268614660254,
          0.06092975951162105,
          0.47062279129812257,
          0.09768406313465983,
          0.9537657078197236,
          0.9103500534860325,
          0.19595027243044316,
          0.6230085204004419,
          0.03208590899231201,
          0.8130892158848426,
          0.11371593465967567,
          0.4172373711762031,
          0.15981797905400985,
          0.7273118014396838,
          0.3262522314316141,
          0.6070132333036524,
          0.6777996570972125,
          0.7512364328228122,
          0.7512317732770316,
          0.592095236189819,
          0.2649981598931789,
          0.366321595902663,
          0.04043155016866229,
          0.2134665938848903,
          0.900894680330914,
          0.5258830407161658,
          0.4638394027150986,
          0.08669464172960506,
          0.746293817044672,
          0.757326657810024,
          0.3316249622229942,
          0.733937954510579,
          0.6043131082449448,
          0.8684404290856206,
          0.09908894055353734,
          0.07242936503894049,
          0.23870917222088717,
          0.6661150712856035,
          0.8216821159634947,
          0.008943299990646247,
          0.06522492404794888,
          0.5455085297204123,
          0.8799339176553671,
          0.4514417797385746,
          0.36739792338843325,
          0.5886472786084893,
          0.2007200420909505,
          0.8624448822091901,
          0.356760465395941,
          0.02445229530184667,
          0.6568293985793383,
          0.2368435389500676,
          0.5356586148312195,
          0.7916482621656947,
          0.6859133967412924,
          0.08199044047448545,
          0.8284403379782539,
          0.09557517696358642,
          0.7438116656945366,
          0.6732355165592411,
          0.6545088204307183,
          0.2366374661578161,
          0.6109166943551121,
          0.6494691262308578,
          0.2465031301279239,
          0.1757772935728199,
          0.6259718258270472,
          0.7946303672024582,
          0.43167414495943335,
          0.17602934709666895,
          0.3769290006955157,
          0.03946852746127105,
          0.7273804941722538,
          0.617362296333829,
          0.5487728291592998,
          0.4006454985085618,
          0.7568866341486932,
          0.3844039760832356,
          0.2936664437556753,
          0.29504370771357713,
          0.8140759872486938
         ]
        },
        {
         "boxpoints": false,
         "line": {
          "width": 1.3
         },
         "marker": {
          "color": "rgba(55, 128, 191, 1.0)"
         },
         "name": "B",
         "orientation": "v",
         "type": "box",
         "y": [
          0.1413730231246072,
          0.9998729928121846,
          0.4188257736746198,
          0.4736608305766299,
          0.02068469863501854,
          0.5334804719352694,
          0.7944404058910364,
          0.4991526157429429,
          0.7942517803327254,
          0.2459256099296454,
          0.3311014268269883,
          0.20292601516783026,
          0.8751397865156237,
          0.5710175396516705,
          0.44087418460854266,
          0.5861141028355995,
          0.6485056491362363,
          0.21899910326218086,
          0.0507563627561225,
          0.7163242036217032,
          0.745776562100112,
          0.7120456712478335,
          0.5140571936577301,
          0.7552627690861516,
          0.004118480145539172,
          0.22760057569498426,
          0.16201102608016849,
          0.20632029429076149,
          0.11265489515046145,
          0.765442933039282,
          0.6010069228145992,
          0.7277108035277594,
          0.045349732688675815,
          0.1353336531088395,
          0.3089097948702392,
          0.9602736030397964,
          0.3295269667796029,
          0.5664232131799312,
          0.11054042262260988,
          0.015426650452661339,
          0.3056223579332049,
          0.8608883407747597,
          0.9462809895058458,
          0.8076094582723771,
          0.9658651939996232,
          0.831117227617789,
          0.851124021471782,
          0.36065105741578973,
          0.7112128285714583,
          0.7823292039068527,
          0.6681331398292817,
          0.8135647397142607,
          0.30283223736203946,
          0.30274222602931944,
          0.21668429058776706,
          0.3388052254263765,
          0.529634397639535,
          0.6388364016699899,
          0.06797053395751496,
          0.2814204030716734,
          0.008321692836526173,
          0.05740466246454046,
          0.4875368114342731,
          0.00013984179532411378,
          0.40936911163794565,
          0.6374434805987741,
          0.3458103155028359,
          0.6998096964112678,
          0.6430476218991251,
          0.06478693980395656,
          0.2473287401874369,
          0.645244771657964,
          0.374846771124003,
          0.6259074204947146,
          0.7737082309833679,
          0.6037542531818422,
          0.8292854742039838,
          0.5097453783800869,
          0.16825580187644507,
          0.06528498735603572,
          0.5163844131641441,
          0.6955960123675705,
          0.0951292976890501,
          0.610316487287014,
          0.9842179502298223,
          0.05093363473156454,
          0.04003045669338945,
          0.5414281074745563,
          0.4749071286045623,
          0.7659615965134244,
          0.5069974202658256,
          0.3554874739940348,
          0.15051990442685292,
          0.8734216679920611,
          0.033749556670973346,
          0.4581050259383195,
          0.6598664681921544,
          0.6438501956597855,
          0.6174656398517214,
          0.40150794786177857
         ]
        }
       ],
       "layout": {
        "legend": {
         "bgcolor": "#F5F6F9",
         "font": {
          "color": "#4D5663"
         }
        },
        "paper_bgcolor": "#F5F6F9",
        "plot_bgcolor": "#F5F6F9",
        "template": {
         "data": {
          "bar": [
           {
            "error_x": {
             "color": "#2a3f5f"
            },
            "error_y": {
             "color": "#2a3f5f"
            },
            "marker": {
             "line": {
              "color": "#E5ECF6",
              "width": 0.5
             }
            },
            "type": "bar"
           }
          ],
          "barpolar": [
           {
            "marker": {
             "line": {
              "color": "#E5ECF6",
              "width": 0.5
             }
            },
            "type": "barpolar"
           }
          ],
          "carpet": [
           {
            "aaxis": {
             "endlinecolor": "#2a3f5f",
             "gridcolor": "white",
             "linecolor": "white",
             "minorgridcolor": "white",
             "startlinecolor": "#2a3f5f"
            },
            "baxis": {
             "endlinecolor": "#2a3f5f",
             "gridcolor": "white",
             "linecolor": "white",
             "minorgridcolor": "white",
             "startlinecolor": "#2a3f5f"
            },
            "type": "carpet"
           }
          ],
          "choropleth": [
           {
            "colorbar": {
             "outlinewidth": 0,
             "ticks": ""
            },
            "type": "choropleth"
           }
          ],
          "contour": [
           {
            "colorbar": {
             "outlinewidth": 0,
             "ticks": ""
            },
            "colorscale": [
             [
              0,
              "#0d0887"
             ],
             [
              0.1111111111111111,
              "#46039f"
             ],
             [
              0.2222222222222222,
              "#7201a8"
             ],
             [
              0.3333333333333333,
              "#9c179e"
             ],
             [
              0.4444444444444444,
              "#bd3786"
             ],
             [
              0.5555555555555556,
              "#d8576b"
             ],
             [
              0.6666666666666666,
              "#ed7953"
             ],
             [
              0.7777777777777778,
              "#fb9f3a"
             ],
             [
              0.8888888888888888,
              "#fdca26"
             ],
             [
              1,
              "#f0f921"
             ]
            ],
            "type": "contour"
           }
          ],
          "contourcarpet": [
           {
            "colorbar": {
             "outlinewidth": 0,
             "ticks": ""
            },
            "type": "contourcarpet"
           }
          ],
          "heatmap": [
           {
            "colorbar": {
             "outlinewidth": 0,
             "ticks": ""
            },
            "colorscale": [
             [
              0,
              "#0d0887"
             ],
             [
              0.1111111111111111,
              "#46039f"
             ],
             [
              0.2222222222222222,
              "#7201a8"
             ],
             [
              0.3333333333333333,
              "#9c179e"
             ],
             [
              0.4444444444444444,
              "#bd3786"
             ],
             [
              0.5555555555555556,
              "#d8576b"
             ],
             [
              0.6666666666666666,
              "#ed7953"
             ],
             [
              0.7777777777777778,
              "#fb9f3a"
             ],
             [
              0.8888888888888888,
              "#fdca26"
             ],
             [
              1,
              "#f0f921"
             ]
            ],
            "type": "heatmap"
           }
          ],
          "heatmapgl": [
           {
            "colorbar": {
             "outlinewidth": 0,
             "ticks": ""
            },
            "colorscale": [
             [
              0,
              "#0d0887"
             ],
             [
              0.1111111111111111,
              "#46039f"
             ],
             [
              0.2222222222222222,
              "#7201a8"
             ],
             [
              0.3333333333333333,
              "#9c179e"
             ],
             [
              0.4444444444444444,
              "#bd3786"
             ],
             [
              0.5555555555555556,
              "#d8576b"
             ],
             [
              0.6666666666666666,
              "#ed7953"
             ],
             [
              0.7777777777777778,
              "#fb9f3a"
             ],
             [
              0.8888888888888888,
              "#fdca26"
             ],
             [
              1,
              "#f0f921"
             ]
            ],
            "type": "heatmapgl"
           }
          ],
          "histogram": [
           {
            "marker": {
             "colorbar": {
              "outlinewidth": 0,
              "ticks": ""
             }
            },
            "type": "histogram"
           }
          ],
          "histogram2d": [
           {
            "colorbar": {
             "outlinewidth": 0,
             "ticks": ""
            },
            "colorscale": [
             [
              0,
              "#0d0887"
             ],
             [
              0.1111111111111111,
              "#46039f"
             ],
             [
              0.2222222222222222,
              "#7201a8"
             ],
             [
              0.3333333333333333,
              "#9c179e"
             ],
             [
              0.4444444444444444,
              "#bd3786"
             ],
             [
              0.5555555555555556,
              "#d8576b"
             ],
             [
              0.6666666666666666,
              "#ed7953"
             ],
             [
              0.7777777777777778,
              "#fb9f3a"
             ],
             [
              0.8888888888888888,
              "#fdca26"
             ],
             [
              1,
              "#f0f921"
             ]
            ],
            "type": "histogram2d"
           }
          ],
          "histogram2dcontour": [
           {
            "colorbar": {
             "outlinewidth": 0,
             "ticks": ""
            },
            "colorscale": [
             [
              0,
              "#0d0887"
             ],
             [
              0.1111111111111111,
              "#46039f"
             ],
             [
              0.2222222222222222,
              "#7201a8"
             ],
             [
              0.3333333333333333,
              "#9c179e"
             ],
             [
              0.4444444444444444,
              "#bd3786"
             ],
             [
              0.5555555555555556,
              "#d8576b"
             ],
             [
              0.6666666666666666,
              "#ed7953"
             ],
             [
              0.7777777777777778,
              "#fb9f3a"
             ],
             [
              0.8888888888888888,
              "#fdca26"
             ],
             [
              1,
              "#f0f921"
             ]
            ],
            "type": "histogram2dcontour"
           }
          ],
          "mesh3d": [
           {
            "colorbar": {
             "outlinewidth": 0,
             "ticks": ""
            },
            "type": "mesh3d"
           }
          ],
          "parcoords": [
           {
            "line": {
             "colorbar": {
              "outlinewidth": 0,
              "ticks": ""
             }
            },
            "type": "parcoords"
           }
          ],
          "pie": [
           {
            "automargin": true,
            "type": "pie"
           }
          ],
          "scatter": [
           {
            "marker": {
             "colorbar": {
              "outlinewidth": 0,
              "ticks": ""
             }
            },
            "type": "scatter"
           }
          ],
          "scatter3d": [
           {
            "line": {
             "colorbar": {
              "outlinewidth": 0,
              "ticks": ""
             }
            },
            "marker": {
             "colorbar": {
              "outlinewidth": 0,
              "ticks": ""
             }
            },
            "type": "scatter3d"
           }
          ],
          "scattercarpet": [
           {
            "marker": {
             "colorbar": {
              "outlinewidth": 0,
              "ticks": ""
             }
            },
            "type": "scattercarpet"
           }
          ],
          "scattergeo": [
           {
            "marker": {
             "colorbar": {
              "outlinewidth": 0,
              "ticks": ""
             }
            },
            "type": "scattergeo"
           }
          ],
          "scattergl": [
           {
            "marker": {
             "colorbar": {
              "outlinewidth": 0,
              "ticks": ""
             }
            },
            "type": "scattergl"
           }
          ],
          "scattermapbox": [
           {
            "marker": {
             "colorbar": {
              "outlinewidth": 0,
              "ticks": ""
             }
            },
            "type": "scattermapbox"
           }
          ],
          "scatterpolar": [
           {
            "marker": {
             "colorbar": {
              "outlinewidth": 0,
              "ticks": ""
             }
            },
            "type": "scatterpolar"
           }
          ],
          "scatterpolargl": [
           {
            "marker": {
             "colorbar": {
              "outlinewidth": 0,
              "ticks": ""
             }
            },
            "type": "scatterpolargl"
           }
          ],
          "scatterternary": [
           {
            "marker": {
             "colorbar": {
              "outlinewidth": 0,
              "ticks": ""
             }
            },
            "type": "scatterternary"
           }
          ],
          "surface": [
           {
            "colorbar": {
             "outlinewidth": 0,
             "ticks": ""
            },
            "colorscale": [
             [
              0,
              "#0d0887"
             ],
             [
              0.1111111111111111,
              "#46039f"
             ],
             [
              0.2222222222222222,
              "#7201a8"
             ],
             [
              0.3333333333333333,
              "#9c179e"
             ],
             [
              0.4444444444444444,
              "#bd3786"
             ],
             [
              0.5555555555555556,
              "#d8576b"
             ],
             [
              0.6666666666666666,
              "#ed7953"
             ],
             [
              0.7777777777777778,
              "#fb9f3a"
             ],
             [
              0.8888888888888888,
              "#fdca26"
             ],
             [
              1,
              "#f0f921"
             ]
            ],
            "type": "surface"
           }
          ],
          "table": [
           {
            "cells": {
             "fill": {
              "color": "#EBF0F8"
             },
             "line": {
              "color": "white"
             }
            },
            "header": {
             "fill": {
              "color": "#C8D4E3"
             },
             "line": {
              "color": "white"
             }
            },
            "type": "table"
           }
          ]
         },
         "layout": {
          "annotationdefaults": {
           "arrowcolor": "#2a3f5f",
           "arrowhead": 0,
           "arrowwidth": 1
          },
          "autotypenumbers": "strict",
          "coloraxis": {
           "colorbar": {
            "outlinewidth": 0,
            "ticks": ""
           }
          },
          "colorscale": {
           "diverging": [
            [
             0,
             "#8e0152"
            ],
            [
             0.1,
             "#c51b7d"
            ],
            [
             0.2,
             "#de77ae"
            ],
            [
             0.3,
             "#f1b6da"
            ],
            [
             0.4,
             "#fde0ef"
            ],
            [
             0.5,
             "#f7f7f7"
            ],
            [
             0.6,
             "#e6f5d0"
            ],
            [
             0.7,
             "#b8e186"
            ],
            [
             0.8,
             "#7fbc41"
            ],
            [
             0.9,
             "#4d9221"
            ],
            [
             1,
             "#276419"
            ]
           ],
           "sequential": [
            [
             0,
             "#0d0887"
            ],
            [
             0.1111111111111111,
             "#46039f"
            ],
            [
             0.2222222222222222,
             "#7201a8"
            ],
            [
             0.3333333333333333,
             "#9c179e"
            ],
            [
             0.4444444444444444,
             "#bd3786"
            ],
            [
             0.5555555555555556,
             "#d8576b"
            ],
            [
             0.6666666666666666,
             "#ed7953"
            ],
            [
             0.7777777777777778,
             "#fb9f3a"
            ],
            [
             0.8888888888888888,
             "#fdca26"
            ],
            [
             1,
             "#f0f921"
            ]
           ],
           "sequentialminus": [
            [
             0,
             "#0d0887"
            ],
            [
             0.1111111111111111,
             "#46039f"
            ],
            [
             0.2222222222222222,
             "#7201a8"
            ],
            [
             0.3333333333333333,
             "#9c179e"
            ],
            [
             0.4444444444444444,
             "#bd3786"
            ],
            [
             0.5555555555555556,
             "#d8576b"
            ],
            [
             0.6666666666666666,
             "#ed7953"
            ],
            [
             0.7777777777777778,
             "#fb9f3a"
            ],
            [
             0.8888888888888888,
             "#fdca26"
            ],
            [
             1,
             "#f0f921"
            ]
           ]
          },
          "colorway": [
           "#636efa",
           "#EF553B",
           "#00cc96",
           "#ab63fa",
           "#FFA15A",
           "#19d3f3",
           "#FF6692",
           "#B6E880",
           "#FF97FF",
           "#FECB52"
          ],
          "font": {
           "color": "#2a3f5f"
          },
          "geo": {
           "bgcolor": "white",
           "lakecolor": "white",
           "landcolor": "#E5ECF6",
           "showlakes": true,
           "showland": true,
           "subunitcolor": "white"
          },
          "hoverlabel": {
           "align": "left"
          },
          "hovermode": "closest",
          "mapbox": {
           "style": "light"
          },
          "paper_bgcolor": "white",
          "plot_bgcolor": "#E5ECF6",
          "polar": {
           "angularaxis": {
            "gridcolor": "white",
            "linecolor": "white",
            "ticks": ""
           },
           "bgcolor": "#E5ECF6",
           "radialaxis": {
            "gridcolor": "white",
            "linecolor": "white",
            "ticks": ""
           }
          },
          "scene": {
           "xaxis": {
            "backgroundcolor": "#E5ECF6",
            "gridcolor": "white",
            "gridwidth": 2,
            "linecolor": "white",
            "showbackground": true,
            "ticks": "",
            "zerolinecolor": "white"
           },
           "yaxis": {
            "backgroundcolor": "#E5ECF6",
            "gridcolor": "white",
            "gridwidth": 2,
            "linecolor": "white",
            "showbackground": true,
            "ticks": "",
            "zerolinecolor": "white"
           },
           "zaxis": {
            "backgroundcolor": "#E5ECF6",
            "gridcolor": "white",
            "gridwidth": 2,
            "linecolor": "white",
            "showbackground": true,
            "ticks": "",
            "zerolinecolor": "white"
           }
          },
          "shapedefaults": {
           "line": {
            "color": "#2a3f5f"
           }
          },
          "ternary": {
           "aaxis": {
            "gridcolor": "white",
            "linecolor": "white",
            "ticks": ""
           },
           "baxis": {
            "gridcolor": "white",
            "linecolor": "white",
            "ticks": ""
           },
           "bgcolor": "#E5ECF6",
           "caxis": {
            "gridcolor": "white",
            "linecolor": "white",
            "ticks": ""
           }
          },
          "title": {
           "x": 0.05
          },
          "xaxis": {
           "automargin": true,
           "gridcolor": "white",
           "linecolor": "white",
           "ticks": "",
           "title": {
            "standoff": 15
           },
           "zerolinecolor": "white",
           "zerolinewidth": 2
          },
          "yaxis": {
           "automargin": true,
           "gridcolor": "white",
           "linecolor": "white",
           "ticks": "",
           "title": {
            "standoff": 15
           },
           "zerolinecolor": "white",
           "zerolinewidth": 2
          }
         }
        },
        "title": {
         "font": {
          "color": "#4D5663"
         }
        },
        "xaxis": {
         "gridcolor": "#E1E5ED",
         "showgrid": true,
         "tickfont": {
          "color": "#4D5663"
         },
         "title": {
          "font": {
           "color": "#4D5663"
          },
          "text": ""
         },
         "zerolinecolor": "#E1E5ED"
        },
        "yaxis": {
         "gridcolor": "#E1E5ED",
         "showgrid": true,
         "tickfont": {
          "color": "#4D5663"
         },
         "title": {
          "font": {
           "color": "#4D5663"
          },
          "text": ""
         },
         "zerolinecolor": "#E1E5ED"
        }
       }
      },
      "text/html": [
       "<div>                            <div id=\"3ace0fa5-21b7-45c9-970b-78971e213804\" class=\"plotly-graph-div\" style=\"height:525px; width:100%;\"></div>            <script type=\"text/javascript\">                require([\"plotly\"], function(Plotly) {                    window.PLOTLYENV=window.PLOTLYENV || {};\n",
       "                    window.PLOTLYENV.BASE_URL='https://plot.ly';                                    if (document.getElementById(\"3ace0fa5-21b7-45c9-970b-78971e213804\")) {                    Plotly.newPlot(                        \"3ace0fa5-21b7-45c9-970b-78971e213804\",                        [{\"boxpoints\": false, \"line\": {\"width\": 1.3}, \"marker\": {\"color\": \"rgba(255, 153, 51, 1.0)\"}, \"name\": \"A\", \"orientation\": \"v\", \"type\": \"box\", \"y\": [0.935369893963711, 0.3739143242437204, 0.943191208619472, 0.16792729403205864, 0.08584828117181709, 0.8111345931666489, 0.05237621161020345, 0.5417282333678696, 0.9278262814177854, 0.9023983664200995, 0.19306364544080956, 0.284122361889092, 0.600045964396287, 0.5361897014057176, 0.9148680630307382, 0.8480088575986628, 0.8267150729509655, 0.7481448049749364, 0.2348097530813349, 0.7875268614660254, 0.06092975951162105, 0.47062279129812257, 0.09768406313465983, 0.9537657078197236, 0.9103500534860325, 0.19595027243044316, 0.6230085204004419, 0.03208590899231201, 0.8130892158848426, 0.11371593465967567, 0.4172373711762031, 0.15981797905400985, 0.7273118014396838, 0.3262522314316141, 0.6070132333036524, 0.6777996570972125, 0.7512364328228122, 0.7512317732770316, 0.592095236189819, 0.2649981598931789, 0.366321595902663, 0.04043155016866229, 0.2134665938848903, 0.900894680330914, 0.5258830407161658, 0.4638394027150986, 0.08669464172960506, 0.746293817044672, 0.757326657810024, 0.3316249622229942, 0.733937954510579, 0.6043131082449448, 0.8684404290856206, 0.09908894055353734, 0.07242936503894049, 0.23870917222088717, 0.6661150712856035, 0.8216821159634947, 0.008943299990646247, 0.06522492404794888, 0.5455085297204123, 0.8799339176553671, 0.4514417797385746, 0.36739792338843325, 0.5886472786084893, 0.2007200420909505, 0.8624448822091901, 0.356760465395941, 0.02445229530184667, 0.6568293985793383, 0.2368435389500676, 0.5356586148312195, 0.7916482621656947, 0.6859133967412924, 0.08199044047448545, 0.8284403379782539, 0.09557517696358642, 0.7438116656945366, 0.6732355165592411, 0.6545088204307183, 0.2366374661578161, 0.6109166943551121, 0.6494691262308578, 0.2465031301279239, 0.1757772935728199, 0.6259718258270472, 0.7946303672024582, 0.43167414495943335, 0.17602934709666895, 0.3769290006955157, 0.03946852746127105, 0.7273804941722538, 0.617362296333829, 0.5487728291592998, 0.4006454985085618, 0.7568866341486932, 0.3844039760832356, 0.2936664437556753, 0.29504370771357713, 0.8140759872486938]}, {\"boxpoints\": false, \"line\": {\"width\": 1.3}, \"marker\": {\"color\": \"rgba(55, 128, 191, 1.0)\"}, \"name\": \"B\", \"orientation\": \"v\", \"type\": \"box\", \"y\": [0.1413730231246072, 0.9998729928121846, 0.4188257736746198, 0.4736608305766299, 0.02068469863501854, 0.5334804719352694, 0.7944404058910364, 0.4991526157429429, 0.7942517803327254, 0.2459256099296454, 0.3311014268269883, 0.20292601516783026, 0.8751397865156237, 0.5710175396516705, 0.44087418460854266, 0.5861141028355995, 0.6485056491362363, 0.21899910326218086, 0.0507563627561225, 0.7163242036217032, 0.745776562100112, 0.7120456712478335, 0.5140571936577301, 0.7552627690861516, 0.004118480145539172, 0.22760057569498426, 0.16201102608016849, 0.20632029429076149, 0.11265489515046145, 0.765442933039282, 0.6010069228145992, 0.7277108035277594, 0.045349732688675815, 0.1353336531088395, 0.3089097948702392, 0.9602736030397964, 0.3295269667796029, 0.5664232131799312, 0.11054042262260988, 0.015426650452661339, 0.3056223579332049, 0.8608883407747597, 0.9462809895058458, 0.8076094582723771, 0.9658651939996232, 0.831117227617789, 0.851124021471782, 0.36065105741578973, 0.7112128285714583, 0.7823292039068527, 0.6681331398292817, 0.8135647397142607, 0.30283223736203946, 0.30274222602931944, 0.21668429058776706, 0.3388052254263765, 0.529634397639535, 0.6388364016699899, 0.06797053395751496, 0.2814204030716734, 0.008321692836526173, 0.05740466246454046, 0.4875368114342731, 0.00013984179532411378, 0.40936911163794565, 0.6374434805987741, 0.3458103155028359, 0.6998096964112678, 0.6430476218991251, 0.06478693980395656, 0.2473287401874369, 0.645244771657964, 0.374846771124003, 0.6259074204947146, 0.7737082309833679, 0.6037542531818422, 0.8292854742039838, 0.5097453783800869, 0.16825580187644507, 0.06528498735603572, 0.5163844131641441, 0.6955960123675705, 0.0951292976890501, 0.610316487287014, 0.9842179502298223, 0.05093363473156454, 0.04003045669338945, 0.5414281074745563, 0.4749071286045623, 0.7659615965134244, 0.5069974202658256, 0.3554874739940348, 0.15051990442685292, 0.8734216679920611, 0.033749556670973346, 0.4581050259383195, 0.6598664681921544, 0.6438501956597855, 0.6174656398517214, 0.40150794786177857]}],                        {\"legend\": {\"bgcolor\": \"#F5F6F9\", \"font\": {\"color\": \"#4D5663\"}}, \"paper_bgcolor\": \"#F5F6F9\", \"plot_bgcolor\": \"#F5F6F9\", \"template\": {\"data\": {\"bar\": [{\"error_x\": {\"color\": \"#2a3f5f\"}, \"error_y\": {\"color\": \"#2a3f5f\"}, \"marker\": {\"line\": {\"color\": \"#E5ECF6\", \"width\": 0.5}}, \"type\": \"bar\"}], \"barpolar\": [{\"marker\": {\"line\": {\"color\": \"#E5ECF6\", \"width\": 0.5}}, \"type\": \"barpolar\"}], \"carpet\": [{\"aaxis\": {\"endlinecolor\": \"#2a3f5f\", \"gridcolor\": \"white\", \"linecolor\": \"white\", \"minorgridcolor\": \"white\", \"startlinecolor\": \"#2a3f5f\"}, \"baxis\": {\"endlinecolor\": \"#2a3f5f\", \"gridcolor\": \"white\", \"linecolor\": \"white\", \"minorgridcolor\": \"white\", \"startlinecolor\": \"#2a3f5f\"}, \"type\": \"carpet\"}], \"choropleth\": [{\"colorbar\": {\"outlinewidth\": 0, \"ticks\": \"\"}, \"type\": \"choropleth\"}], \"contour\": [{\"colorbar\": {\"outlinewidth\": 0, \"ticks\": \"\"}, \"colorscale\": [[0.0, \"#0d0887\"], [0.1111111111111111, \"#46039f\"], [0.2222222222222222, \"#7201a8\"], [0.3333333333333333, \"#9c179e\"], [0.4444444444444444, \"#bd3786\"], [0.5555555555555556, \"#d8576b\"], [0.6666666666666666, \"#ed7953\"], [0.7777777777777778, \"#fb9f3a\"], [0.8888888888888888, \"#fdca26\"], [1.0, \"#f0f921\"]], \"type\": \"contour\"}], \"contourcarpet\": [{\"colorbar\": {\"outlinewidth\": 0, \"ticks\": \"\"}, \"type\": \"contourcarpet\"}], \"heatmap\": [{\"colorbar\": {\"outlinewidth\": 0, \"ticks\": \"\"}, \"colorscale\": [[0.0, \"#0d0887\"], [0.1111111111111111, \"#46039f\"], [0.2222222222222222, \"#7201a8\"], [0.3333333333333333, \"#9c179e\"], [0.4444444444444444, \"#bd3786\"], [0.5555555555555556, \"#d8576b\"], [0.6666666666666666, \"#ed7953\"], [0.7777777777777778, \"#fb9f3a\"], [0.8888888888888888, \"#fdca26\"], [1.0, \"#f0f921\"]], \"type\": \"heatmap\"}], \"heatmapgl\": [{\"colorbar\": {\"outlinewidth\": 0, \"ticks\": \"\"}, \"colorscale\": [[0.0, \"#0d0887\"], [0.1111111111111111, \"#46039f\"], [0.2222222222222222, \"#7201a8\"], [0.3333333333333333, \"#9c179e\"], [0.4444444444444444, \"#bd3786\"], [0.5555555555555556, \"#d8576b\"], [0.6666666666666666, \"#ed7953\"], [0.7777777777777778, \"#fb9f3a\"], [0.8888888888888888, \"#fdca26\"], [1.0, \"#f0f921\"]], \"type\": \"heatmapgl\"}], \"histogram\": [{\"marker\": {\"colorbar\": {\"outlinewidth\": 0, \"ticks\": \"\"}}, \"type\": \"histogram\"}], \"histogram2d\": [{\"colorbar\": {\"outlinewidth\": 0, \"ticks\": \"\"}, \"colorscale\": [[0.0, \"#0d0887\"], [0.1111111111111111, \"#46039f\"], [0.2222222222222222, \"#7201a8\"], [0.3333333333333333, \"#9c179e\"], [0.4444444444444444, \"#bd3786\"], [0.5555555555555556, \"#d8576b\"], [0.6666666666666666, \"#ed7953\"], [0.7777777777777778, \"#fb9f3a\"], [0.8888888888888888, \"#fdca26\"], [1.0, \"#f0f921\"]], \"type\": \"histogram2d\"}], \"histogram2dcontour\": [{\"colorbar\": {\"outlinewidth\": 0, \"ticks\": \"\"}, \"colorscale\": [[0.0, \"#0d0887\"], [0.1111111111111111, \"#46039f\"], [0.2222222222222222, \"#7201a8\"], [0.3333333333333333, \"#9c179e\"], [0.4444444444444444, \"#bd3786\"], [0.5555555555555556, \"#d8576b\"], [0.6666666666666666, \"#ed7953\"], [0.7777777777777778, \"#fb9f3a\"], [0.8888888888888888, \"#fdca26\"], [1.0, \"#f0f921\"]], \"type\": \"histogram2dcontour\"}], \"mesh3d\": [{\"colorbar\": {\"outlinewidth\": 0, \"ticks\": \"\"}, \"type\": \"mesh3d\"}], \"parcoords\": [{\"line\": {\"colorbar\": {\"outlinewidth\": 0, \"ticks\": \"\"}}, \"type\": \"parcoords\"}], \"pie\": [{\"automargin\": true, \"type\": \"pie\"}], \"scatter\": [{\"marker\": {\"colorbar\": {\"outlinewidth\": 0, \"ticks\": \"\"}}, \"type\": \"scatter\"}], \"scatter3d\": [{\"line\": {\"colorbar\": {\"outlinewidth\": 0, \"ticks\": \"\"}}, \"marker\": {\"colorbar\": {\"outlinewidth\": 0, \"ticks\": \"\"}}, \"type\": \"scatter3d\"}], \"scattercarpet\": [{\"marker\": {\"colorbar\": {\"outlinewidth\": 0, \"ticks\": \"\"}}, \"type\": \"scattercarpet\"}], \"scattergeo\": [{\"marker\": {\"colorbar\": {\"outlinewidth\": 0, \"ticks\": \"\"}}, \"type\": \"scattergeo\"}], \"scattergl\": [{\"marker\": {\"colorbar\": {\"outlinewidth\": 0, \"ticks\": \"\"}}, \"type\": \"scattergl\"}], \"scattermapbox\": [{\"marker\": {\"colorbar\": {\"outlinewidth\": 0, \"ticks\": \"\"}}, \"type\": \"scattermapbox\"}], \"scatterpolar\": [{\"marker\": {\"colorbar\": {\"outlinewidth\": 0, \"ticks\": \"\"}}, \"type\": \"scatterpolar\"}], \"scatterpolargl\": [{\"marker\": {\"colorbar\": {\"outlinewidth\": 0, \"ticks\": \"\"}}, \"type\": \"scatterpolargl\"}], \"scatterternary\": [{\"marker\": {\"colorbar\": {\"outlinewidth\": 0, \"ticks\": \"\"}}, \"type\": \"scatterternary\"}], \"surface\": [{\"colorbar\": {\"outlinewidth\": 0, \"ticks\": \"\"}, \"colorscale\": [[0.0, \"#0d0887\"], [0.1111111111111111, \"#46039f\"], [0.2222222222222222, \"#7201a8\"], [0.3333333333333333, \"#9c179e\"], [0.4444444444444444, \"#bd3786\"], [0.5555555555555556, \"#d8576b\"], [0.6666666666666666, \"#ed7953\"], [0.7777777777777778, \"#fb9f3a\"], [0.8888888888888888, \"#fdca26\"], [1.0, \"#f0f921\"]], \"type\": \"surface\"}], \"table\": [{\"cells\": {\"fill\": {\"color\": \"#EBF0F8\"}, \"line\": {\"color\": \"white\"}}, \"header\": {\"fill\": {\"color\": \"#C8D4E3\"}, \"line\": {\"color\": \"white\"}}, \"type\": \"table\"}]}, \"layout\": {\"annotationdefaults\": {\"arrowcolor\": \"#2a3f5f\", \"arrowhead\": 0, \"arrowwidth\": 1}, \"autotypenumbers\": \"strict\", \"coloraxis\": {\"colorbar\": {\"outlinewidth\": 0, \"ticks\": \"\"}}, \"colorscale\": {\"diverging\": [[0, \"#8e0152\"], [0.1, \"#c51b7d\"], [0.2, \"#de77ae\"], [0.3, \"#f1b6da\"], [0.4, \"#fde0ef\"], [0.5, \"#f7f7f7\"], [0.6, \"#e6f5d0\"], [0.7, \"#b8e186\"], [0.8, \"#7fbc41\"], [0.9, \"#4d9221\"], [1, \"#276419\"]], \"sequential\": [[0.0, \"#0d0887\"], [0.1111111111111111, \"#46039f\"], [0.2222222222222222, \"#7201a8\"], [0.3333333333333333, \"#9c179e\"], [0.4444444444444444, \"#bd3786\"], [0.5555555555555556, \"#d8576b\"], [0.6666666666666666, \"#ed7953\"], [0.7777777777777778, \"#fb9f3a\"], [0.8888888888888888, \"#fdca26\"], [1.0, \"#f0f921\"]], \"sequentialminus\": [[0.0, \"#0d0887\"], [0.1111111111111111, \"#46039f\"], [0.2222222222222222, \"#7201a8\"], [0.3333333333333333, \"#9c179e\"], [0.4444444444444444, \"#bd3786\"], [0.5555555555555556, \"#d8576b\"], [0.6666666666666666, \"#ed7953\"], [0.7777777777777778, \"#fb9f3a\"], [0.8888888888888888, \"#fdca26\"], [1.0, \"#f0f921\"]]}, \"colorway\": [\"#636efa\", \"#EF553B\", \"#00cc96\", \"#ab63fa\", \"#FFA15A\", \"#19d3f3\", \"#FF6692\", \"#B6E880\", \"#FF97FF\", \"#FECB52\"], \"font\": {\"color\": \"#2a3f5f\"}, \"geo\": {\"bgcolor\": \"white\", \"lakecolor\": \"white\", \"landcolor\": \"#E5ECF6\", \"showlakes\": true, \"showland\": true, \"subunitcolor\": \"white\"}, \"hoverlabel\": {\"align\": \"left\"}, \"hovermode\": \"closest\", \"mapbox\": {\"style\": \"light\"}, \"paper_bgcolor\": \"white\", \"plot_bgcolor\": \"#E5ECF6\", \"polar\": {\"angularaxis\": {\"gridcolor\": \"white\", \"linecolor\": \"white\", \"ticks\": \"\"}, \"bgcolor\": \"#E5ECF6\", \"radialaxis\": {\"gridcolor\": \"white\", \"linecolor\": \"white\", \"ticks\": \"\"}}, \"scene\": {\"xaxis\": {\"backgroundcolor\": \"#E5ECF6\", \"gridcolor\": \"white\", \"gridwidth\": 2, \"linecolor\": \"white\", \"showbackground\": true, \"ticks\": \"\", \"zerolinecolor\": \"white\"}, \"yaxis\": {\"backgroundcolor\": \"#E5ECF6\", \"gridcolor\": \"white\", \"gridwidth\": 2, \"linecolor\": \"white\", \"showbackground\": true, \"ticks\": \"\", \"zerolinecolor\": \"white\"}, \"zaxis\": {\"backgroundcolor\": \"#E5ECF6\", \"gridcolor\": \"white\", \"gridwidth\": 2, \"linecolor\": \"white\", \"showbackground\": true, \"ticks\": \"\", \"zerolinecolor\": \"white\"}}, \"shapedefaults\": {\"line\": {\"color\": \"#2a3f5f\"}}, \"ternary\": {\"aaxis\": {\"gridcolor\": \"white\", \"linecolor\": \"white\", \"ticks\": \"\"}, \"baxis\": {\"gridcolor\": \"white\", \"linecolor\": \"white\", \"ticks\": \"\"}, \"bgcolor\": \"#E5ECF6\", \"caxis\": {\"gridcolor\": \"white\", \"linecolor\": \"white\", \"ticks\": \"\"}}, \"title\": {\"x\": 0.05}, \"xaxis\": {\"automargin\": true, \"gridcolor\": \"white\", \"linecolor\": \"white\", \"ticks\": \"\", \"title\": {\"standoff\": 15}, \"zerolinecolor\": \"white\", \"zerolinewidth\": 2}, \"yaxis\": {\"automargin\": true, \"gridcolor\": \"white\", \"linecolor\": \"white\", \"ticks\": \"\", \"title\": {\"standoff\": 15}, \"zerolinecolor\": \"white\", \"zerolinewidth\": 2}}}, \"title\": {\"font\": {\"color\": \"#4D5663\"}}, \"xaxis\": {\"gridcolor\": \"#E1E5ED\", \"showgrid\": true, \"tickfont\": {\"color\": \"#4D5663\"}, \"title\": {\"font\": {\"color\": \"#4D5663\"}, \"text\": \"\"}, \"zerolinecolor\": \"#E1E5ED\"}, \"yaxis\": {\"gridcolor\": \"#E1E5ED\", \"showgrid\": true, \"tickfont\": {\"color\": \"#4D5663\"}, \"title\": {\"font\": {\"color\": \"#4D5663\"}, \"text\": \"\"}, \"zerolinecolor\": \"#E1E5ED\"}},                        {\"showLink\": true, \"linkText\": \"Export to plot.ly\", \"plotlyServerURL\": \"https://plot.ly\", \"responsive\": true}                    ).then(function(){\n",
       "                            \n",
       "var gd = document.getElementById('3ace0fa5-21b7-45c9-970b-78971e213804');\n",
       "var x = new MutationObserver(function (mutations, observer) {{\n",
       "        var display = window.getComputedStyle(gd).display;\n",
       "        if (!display || display === 'none') {{\n",
       "            console.log([gd, 'removed!']);\n",
       "            Plotly.purge(gd);\n",
       "            observer.disconnect();\n",
       "        }}\n",
       "}});\n",
       "\n",
       "// Listen for the removal of the full notebook cells\n",
       "var notebookContainer = gd.closest('#notebook-container');\n",
       "if (notebookContainer) {{\n",
       "    x.observe(notebookContainer, {childList: true});\n",
       "}}\n",
       "\n",
       "// Listen for the clearing of the current output cell\n",
       "var outputEl = gd.closest('.output');\n",
       "if (outputEl) {{\n",
       "    x.observe(outputEl, {childList: true});\n",
       "}}\n",
       "\n",
       "                        })                };                });            </script>        </div>"
      ]
     },
     "metadata": {},
     "output_type": "display_data"
    }
   ],
   "source": [
    "main(cat)"
   ]
  },
  {
   "cell_type": "code",
   "execution_count": null,
   "metadata": {},
   "outputs": [],
   "source": []
  }
 ],
 "metadata": {
  "kernelspec": {
   "display_name": "Python 3",
   "language": "python",
   "name": "python3"
  },
  "language_info": {
   "codemirror_mode": {
    "name": "ipython",
    "version": 3
   },
   "file_extension": ".py",
   "mimetype": "text/x-python",
   "name": "python",
   "nbconvert_exporter": "python",
   "pygments_lexer": "ipython3",
   "version": "3.8.5"
  }
 },
 "nbformat": 4,
 "nbformat_minor": 4
}
